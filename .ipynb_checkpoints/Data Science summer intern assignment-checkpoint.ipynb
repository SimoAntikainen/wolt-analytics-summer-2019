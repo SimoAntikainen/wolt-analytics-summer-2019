{
 "cells": [
  {
   "cell_type": "code",
   "execution_count": 32,
   "metadata": {},
   "outputs": [],
   "source": [
    "import pandas as pd\n",
    "import matplotlib.pyplot as plt"
   ]
  },
  {
   "cell_type": "code",
   "execution_count": 228,
   "metadata": {},
   "outputs": [],
   "source": [
    "df = pd.read_json('datascience_assignment_data.json')"
   ]
  },
  {
   "cell_type": "code",
   "execution_count": 229,
   "metadata": {},
   "outputs": [
    {
     "data": {
      "text/html": [
       "<div>\n",
       "<style>\n",
       "    .dataframe thead tr:only-child th {\n",
       "        text-align: right;\n",
       "    }\n",
       "\n",
       "    .dataframe thead th {\n",
       "        text-align: left;\n",
       "    }\n",
       "\n",
       "    .dataframe tbody tr th {\n",
       "        vertical-align: top;\n",
       "    }\n",
       "</style>\n",
       "<table border=\"1\" class=\"dataframe\">\n",
       "  <thead>\n",
       "    <tr style=\"text-align: right;\">\n",
       "      <th></th>\n",
       "      <th>distance</th>\n",
       "      <th>preorder</th>\n",
       "      <th>timestamp</th>\n",
       "      <th>tz</th>\n",
       "      <th>venue_tags</th>\n",
       "      <th>weather</th>\n",
       "    </tr>\n",
       "  </thead>\n",
       "  <tbody>\n",
       "    <tr>\n",
       "      <th>0</th>\n",
       "      <td>3.123568</td>\n",
       "      <td>False</td>\n",
       "      <td>2018-04-10 09:36:53.754</td>\n",
       "      <td>{'zone': 'Europe/Helsinki'}</td>\n",
       "      <td>[sushi, japanese, gourmet]</td>\n",
       "      <td>sunny</td>\n",
       "    </tr>\n",
       "    <tr>\n",
       "      <th>1</th>\n",
       "      <td>2.489746</td>\n",
       "      <td>False</td>\n",
       "      <td>2018-04-10 10:27:39.279</td>\n",
       "      <td>{'zone': 'Europe/Helsinki'}</td>\n",
       "      <td>[sushi, fish]</td>\n",
       "      <td>sunny</td>\n",
       "    </tr>\n",
       "    <tr>\n",
       "      <th>2</th>\n",
       "      <td>1.378161</td>\n",
       "      <td>False</td>\n",
       "      <td>2018-04-10 10:35:22.101</td>\n",
       "      <td>{'zone': 'Europe/Helsinki'}</td>\n",
       "      <td>[sushi, japanese, gourmet]</td>\n",
       "      <td>sunny</td>\n",
       "    </tr>\n",
       "    <tr>\n",
       "      <th>3</th>\n",
       "      <td>2.390313</td>\n",
       "      <td>False</td>\n",
       "      <td>2018-04-10 12:32:17.173</td>\n",
       "      <td>{'zone': 'Europe/Helsinki'}</td>\n",
       "      <td>[sushi, fish]</td>\n",
       "      <td>sunny</td>\n",
       "    </tr>\n",
       "    <tr>\n",
       "      <th>4</th>\n",
       "      <td>2.493781</td>\n",
       "      <td>False</td>\n",
       "      <td>2018-04-10 13:13:56.298</td>\n",
       "      <td>{'zone': 'Europe/Helsinki'}</td>\n",
       "      <td>[sushi, japanese, gourmet]</td>\n",
       "      <td>sunny</td>\n",
       "    </tr>\n",
       "  </tbody>\n",
       "</table>\n",
       "</div>"
      ],
      "text/plain": [
       "   distance  preorder               timestamp                           tz  \\\n",
       "0  3.123568     False 2018-04-10 09:36:53.754  {'zone': 'Europe/Helsinki'}   \n",
       "1  2.489746     False 2018-04-10 10:27:39.279  {'zone': 'Europe/Helsinki'}   \n",
       "2  1.378161     False 2018-04-10 10:35:22.101  {'zone': 'Europe/Helsinki'}   \n",
       "3  2.390313     False 2018-04-10 12:32:17.173  {'zone': 'Europe/Helsinki'}   \n",
       "4  2.493781     False 2018-04-10 13:13:56.298  {'zone': 'Europe/Helsinki'}   \n",
       "\n",
       "                   venue_tags weather  \n",
       "0  [sushi, japanese, gourmet]   sunny  \n",
       "1               [sushi, fish]   sunny  \n",
       "2  [sushi, japanese, gourmet]   sunny  \n",
       "3               [sushi, fish]   sunny  \n",
       "4  [sushi, japanese, gourmet]   sunny  "
      ]
     },
     "execution_count": 229,
     "metadata": {},
     "output_type": "execute_result"
    }
   ],
   "source": [
    "df.head()"
   ]
  },
  {
   "cell_type": "code",
   "execution_count": 230,
   "metadata": {},
   "outputs": [
    {
     "data": {
      "text/plain": [
       "array([False])"
      ]
     },
     "execution_count": 230,
     "metadata": {},
     "output_type": "execute_result"
    }
   ],
   "source": [
    "#preorder is always false so we can drop it from consideration\n",
    "df['preorder'].unique()"
   ]
  },
  {
   "cell_type": "code",
   "execution_count": 231,
   "metadata": {},
   "outputs": [],
   "source": [
    "df = df.drop(['preorder'], axis=1)"
   ]
  },
  {
   "cell_type": "code",
   "execution_count": 232,
   "metadata": {},
   "outputs": [
    {
     "data": {
      "text/plain": [
       "{'Europe/Helsinki'}"
      ]
     },
     "execution_count": 232,
     "metadata": {},
     "output_type": "execute_result"
    }
   ],
   "source": [
    "#timezone is always constant Europe/Helsinki so we can drop it from consideration\n",
    "s = set( val for dic in df['tz'].values for val in dic.values())\n",
    "s"
   ]
  },
  {
   "cell_type": "code",
   "execution_count": 233,
   "metadata": {},
   "outputs": [],
   "source": [
    "df = df.drop(['tz'], axis=1)"
   ]
  },
  {
   "cell_type": "code",
   "execution_count": 234,
   "metadata": {},
   "outputs": [
    {
     "data": {
      "text/plain": [
       "sushi          2590\n",
       "japanese       2359\n",
       "gourmet        2359\n",
       "fresh          1130\n",
       "fish            233\n",
       "pita              6\n",
       "lunch             5\n",
       "lebanese          5\n",
       "meze              5\n",
       "fast              5\n",
       "salad             5\n",
       "sandwich          4\n",
       "vegetarian        4\n",
       "wrap              3\n",
       "asian             3\n",
       "hangover          3\n",
       "spicy             3\n",
       "cheap             3\n",
       "smoothie          3\n",
       "noodles           3\n",
       "pizza             3\n",
       "meatballs         2\n",
       "meat              2\n",
       "american          2\n",
       "italian           2\n",
       "soup              2\n",
       "vietnamese        2\n",
       "fafas             1\n",
       "hamburger         1\n",
       "artisan           1\n",
       "napolese          1\n",
       "café              1\n",
       "street food       1\n",
       "falafel           1\n",
       "fries             1\n",
       "thai              1\n",
       "dessert           1\n",
       "rice              1\n",
       "vegan             1\n",
       "chicken           1\n",
       "family            1\n",
       "coffee            1\n",
       "healthy           1\n",
       "dtype: int64"
      ]
     },
     "execution_count": 234,
     "metadata": {},
     "output_type": "execute_result"
    }
   ],
   "source": [
    "#Class distribution of venue tags is highly imbalanced to a few classes\n",
    "df['venue_tags'].apply(pd.Series).stack().value_counts()"
   ]
  },
  {
   "cell_type": "code",
   "execution_count": 235,
   "metadata": {},
   "outputs": [
    {
     "data": {
      "text/plain": [
       "rain            955\n",
       "sunny           740\n",
       "mostly_sunny    580\n",
       "overcast        332\n",
       "Name: weather, dtype: int64"
      ]
     },
     "execution_count": 235,
     "metadata": {},
     "output_type": "execute_result"
    }
   ],
   "source": [
    "#With weather the class distirubtion is much more even\n",
    "#There seems to be a possible preposition to use the app more when it is raining\n",
    "df['weather'].value_counts()"
   ]
  },
  {
   "cell_type": "code",
   "execution_count": 225,
   "metadata": {},
   "outputs": [],
   "source": [
    "df.set_index('timestamp', inplace=True)"
   ]
  },
  {
   "cell_type": "markdown",
   "metadata": {},
   "source": [
    "## Relationship between weather and order amount"
   ]
  },
  {
   "cell_type": "code",
   "execution_count": 239,
   "metadata": {},
   "outputs": [
    {
     "data": {
      "text/html": [
       "<div>\n",
       "<style>\n",
       "    .dataframe thead tr:only-child th {\n",
       "        text-align: right;\n",
       "    }\n",
       "\n",
       "    .dataframe thead th {\n",
       "        text-align: left;\n",
       "    }\n",
       "\n",
       "    .dataframe tbody tr th {\n",
       "        vertical-align: top;\n",
       "    }\n",
       "</style>\n",
       "<table border=\"1\" class=\"dataframe\">\n",
       "  <thead>\n",
       "    <tr style=\"text-align: right;\">\n",
       "      <th></th>\n",
       "      <th>timestamp</th>\n",
       "      <th>weather</th>\n",
       "      <th>count</th>\n",
       "    </tr>\n",
       "  </thead>\n",
       "  <tbody>\n",
       "    <tr>\n",
       "      <th>0</th>\n",
       "      <td>2018-04-10 09:00:00</td>\n",
       "      <td>sunny</td>\n",
       "      <td>1</td>\n",
       "    </tr>\n",
       "    <tr>\n",
       "      <th>1</th>\n",
       "      <td>2018-04-10 10:00:00</td>\n",
       "      <td>sunny</td>\n",
       "      <td>2</td>\n",
       "    </tr>\n",
       "    <tr>\n",
       "      <th>2</th>\n",
       "      <td>2018-04-10 12:00:00</td>\n",
       "      <td>sunny</td>\n",
       "      <td>1</td>\n",
       "    </tr>\n",
       "    <tr>\n",
       "      <th>3</th>\n",
       "      <td>2018-04-10 13:00:00</td>\n",
       "      <td>sunny</td>\n",
       "      <td>2</td>\n",
       "    </tr>\n",
       "    <tr>\n",
       "      <th>4</th>\n",
       "      <td>2018-04-10 14:00:00</td>\n",
       "      <td>sunny</td>\n",
       "      <td>2</td>\n",
       "    </tr>\n",
       "    <tr>\n",
       "      <th>5</th>\n",
       "      <td>2018-04-10 17:00:00</td>\n",
       "      <td>sunny</td>\n",
       "      <td>2</td>\n",
       "    </tr>\n",
       "    <tr>\n",
       "      <th>6</th>\n",
       "      <td>2018-04-11 09:00:00</td>\n",
       "      <td>rain</td>\n",
       "      <td>1</td>\n",
       "    </tr>\n",
       "    <tr>\n",
       "      <th>7</th>\n",
       "      <td>2018-04-11 10:00:00</td>\n",
       "      <td>rain</td>\n",
       "      <td>3</td>\n",
       "    </tr>\n",
       "    <tr>\n",
       "      <th>8</th>\n",
       "      <td>2018-04-11 13:00:00</td>\n",
       "      <td>rain</td>\n",
       "      <td>1</td>\n",
       "    </tr>\n",
       "    <tr>\n",
       "      <th>9</th>\n",
       "      <td>2018-04-11 14:00:00</td>\n",
       "      <td>rain</td>\n",
       "      <td>3</td>\n",
       "    </tr>\n",
       "  </tbody>\n",
       "</table>\n",
       "</div>"
      ],
      "text/plain": [
       "            timestamp weather  count\n",
       "0 2018-04-10 09:00:00   sunny      1\n",
       "1 2018-04-10 10:00:00   sunny      2\n",
       "2 2018-04-10 12:00:00   sunny      1\n",
       "3 2018-04-10 13:00:00   sunny      2\n",
       "4 2018-04-10 14:00:00   sunny      2\n",
       "5 2018-04-10 17:00:00   sunny      2\n",
       "6 2018-04-11 09:00:00    rain      1\n",
       "7 2018-04-11 10:00:00    rain      3\n",
       "8 2018-04-11 13:00:00    rain      1\n",
       "9 2018-04-11 14:00:00    rain      3"
      ]
     },
     "execution_count": 239,
     "metadata": {},
     "output_type": "execute_result"
    }
   ],
   "source": [
    "#Approximation on how many hours are of each weather type\n",
    "hourly_sum = df.groupby([pd.Grouper(key='timestamp',freq='H'),df.weather]).size().reset_index(name='count')\n",
    "hourly_sum[:10]"
   ]
  },
  {
   "cell_type": "code",
   "execution_count": 240,
   "metadata": {},
   "outputs": [],
   "source": [
    "hourly_sum_rain = hourly_sum[hourly_sum['weather'] == 'rain'].shape[0]\n",
    "hourly_sum_sunny = hourly_sum[hourly_sum['weather'] == 'sunny'].shape[0]\n",
    "hourly_sum_mostly_sunny = hourly_sum[hourly_sum['weather'] == 'mostly_sunny'].shape[0]\n",
    "hourly_sum_overcast = hourly_sum[hourly_sum['weather'] == 'overcast'].shape[0]"
   ]
  },
  {
   "cell_type": "code",
   "execution_count": 224,
   "metadata": {},
   "outputs": [
    {
     "name": "stdout",
     "output_type": "stream",
     "text": [
      "orders in rain: 2.8851963746223563 per hour\n"
     ]
    }
   ],
   "source": [
    "print(\"orders in rain: \" + str(955 / hourly_sum_rain) + \" per hour\")"
   ]
  },
  {
   "cell_type": "code",
   "execution_count": 241,
   "metadata": {},
   "outputs": [
    {
     "name": "stdout",
     "output_type": "stream",
     "text": [
      "orders in sunny: 2.364217252396166 per hour\n"
     ]
    }
   ],
   "source": [
    "print(\"orders in sunny: \" + str(740 / hourly_sum_sunny) + \" per hour\")"
   ]
  },
  {
   "cell_type": "code",
   "execution_count": 222,
   "metadata": {},
   "outputs": [
    {
     "name": "stdout",
     "output_type": "stream",
     "text": [
      "orders in mostly sunny : 2.600896860986547 per hour\n"
     ]
    }
   ],
   "source": [
    "print(\"orders in mostly sunny : \" + str(580 / hourly_sum_mostly_sunny) + \" per hour\")"
   ]
  },
  {
   "cell_type": "code",
   "execution_count": 221,
   "metadata": {},
   "outputs": [
    {
     "name": "stdout",
     "output_type": "stream",
     "text": [
      "orders in mostly overcast : 2.8620689655172415 per hour\n"
     ]
    }
   ],
   "source": [
    "print(\"orders in mostly overcast : \" + str(332 / hourly_sum_overcast) + \" per hour\")"
   ]
  },
  {
   "cell_type": "markdown",
   "metadata": {},
   "source": [
    "__Conclusion: Worse weather attracts more customers to the application__"
   ]
  },
  {
   "cell_type": "markdown",
   "metadata": {},
   "source": [
    "## Relationship between time and order amount"
   ]
  },
  {
   "cell_type": "code",
   "execution_count": 334,
   "metadata": {},
   "outputs": [],
   "source": [
    "#Adjust freq to W for weekly orders and M to monthly orders\n",
    "daily_sum = df.groupby(pd.Grouper(key='timestamp',freq='D')).count()\n",
    "daily_sum.rename(columns={'distance':'amount'}, inplace=True)"
   ]
  },
  {
   "cell_type": "code",
   "execution_count": 335,
   "metadata": {},
   "outputs": [
    {
     "data": {
      "text/html": [
       "<div>\n",
       "<style>\n",
       "    .dataframe thead tr:only-child th {\n",
       "        text-align: right;\n",
       "    }\n",
       "\n",
       "    .dataframe thead th {\n",
       "        text-align: left;\n",
       "    }\n",
       "\n",
       "    .dataframe tbody tr th {\n",
       "        vertical-align: top;\n",
       "    }\n",
       "</style>\n",
       "<table border=\"1\" class=\"dataframe\">\n",
       "  <thead>\n",
       "    <tr style=\"text-align: right;\">\n",
       "      <th></th>\n",
       "      <th>amount</th>\n",
       "      <th>venue_tags</th>\n",
       "      <th>weather</th>\n",
       "    </tr>\n",
       "    <tr>\n",
       "      <th>timestamp</th>\n",
       "      <th></th>\n",
       "      <th></th>\n",
       "      <th></th>\n",
       "    </tr>\n",
       "  </thead>\n",
       "  <tbody>\n",
       "    <tr>\n",
       "      <th>2018-04-10 09:00:00</th>\n",
       "      <td>1</td>\n",
       "      <td>1</td>\n",
       "      <td>1</td>\n",
       "    </tr>\n",
       "    <tr>\n",
       "      <th>2018-04-10 10:00:00</th>\n",
       "      <td>2</td>\n",
       "      <td>2</td>\n",
       "      <td>2</td>\n",
       "    </tr>\n",
       "    <tr>\n",
       "      <th>2018-04-10 11:00:00</th>\n",
       "      <td>0</td>\n",
       "      <td>0</td>\n",
       "      <td>0</td>\n",
       "    </tr>\n",
       "    <tr>\n",
       "      <th>2018-04-10 12:00:00</th>\n",
       "      <td>1</td>\n",
       "      <td>1</td>\n",
       "      <td>1</td>\n",
       "    </tr>\n",
       "    <tr>\n",
       "      <th>2018-04-10 13:00:00</th>\n",
       "      <td>2</td>\n",
       "      <td>2</td>\n",
       "      <td>2</td>\n",
       "    </tr>\n",
       "  </tbody>\n",
       "</table>\n",
       "</div>"
      ],
      "text/plain": [
       "                     amount  venue_tags  weather\n",
       "timestamp                                       \n",
       "2018-04-10 09:00:00       1           1        1\n",
       "2018-04-10 10:00:00       2           2        2\n",
       "2018-04-10 11:00:00       0           0        0\n",
       "2018-04-10 12:00:00       1           1        1\n",
       "2018-04-10 13:00:00       2           2        2"
      ]
     },
     "execution_count": 335,
     "metadata": {},
     "output_type": "execute_result"
    }
   ],
   "source": [
    "daily_sum.head()"
   ]
  },
  {
   "cell_type": "code",
   "execution_count": 336,
   "metadata": {},
   "outputs": [
    {
     "data": {
      "image/png": "[encoded data removed]",
      "text/plain": [
       "<matplotlib.figure.Figure at 0x1d876b8bef0>"
      ]
     },
     "metadata": {
      "needs_background": "light"
     },
     "output_type": "display_data"
    }
   ],
   "source": [
    "plt.figure(figsize=(15,5))\n",
    "plt.bar(daily_sum.index, daily_sum.amount)\n",
    "plt.xlabel('day')\n",
    "plt.ylabel('orders')\n",
    "plt.title('orders amount by day')\n",
    "plt.show()"
   ]
  },
  {
   "cell_type": "code",
   "execution_count": 337,
   "metadata": {},
   "outputs": [
    {
     "data": {
      "image/png": "[encoded data removed]",
      "text/plain": [
       "<matplotlib.figure.Figure at 0x1d877478f28>"
      ]
     },
     "metadata": {
      "needs_background": "light"
     },
     "output_type": "display_data"
    }
   ],
   "source": [
    "#add day column to group_by\n",
    "daily_sum['weekday'] = daily_sum.index.weekday\n",
    "\n",
    "#application use increases till friday after which it decreases\n",
    "daily_sum.groupby(['weekday']).amount.sum()\n",
    "\n",
    "\n",
    "daily_sum.boxplot(column='amount', by='weekday', figsize=(12,7), grid=False)\n",
    "plt.xlabel('day')\n",
    "plt.ylabel('frequency')\n",
    "plt.show()"
   ]
  },
  {
   "cell_type": "code",
   "execution_count": 330,
   "metadata": {},
   "outputs": [
    {
     "data": {
      "image/png": "[encoded data removed]",
      "text/plain": [
       "<matplotlib.figure.Figure at 0x1d8753aef28>"
      ]
     },
     "metadata": {
      "needs_background": "light"
     },
     "output_type": "display_data"
    }
   ],
   "source": [
    "daily_sum.boxplot(column='amount', by='weekday', figsize=(12,7), grid=False)\n",
    "plt.xlabel('day')\n",
    "plt.ylabel('frequency')\n",
    "plt.show()"
   ]
  },
  {
   "cell_type": "markdown",
   "metadata": {},
   "source": [
    "## Relationship between distance and weather"
   ]
  },
  {
   "cell_type": "code",
   "execution_count": 305,
   "metadata": {},
   "outputs": [
    {
     "data": {
      "image/png": "[encoded data removed]",
      "text/plain": [
       "<matplotlib.figure.Figure at 0x1d874488828>"
      ]
     },
     "metadata": {
      "needs_background": "light"
     },
     "output_type": "display_data"
    }
   ],
   "source": [
    "plt.figure(figsize=(8,5))\n",
    "plt.hist(df.distance,20, facecolor='blue', alpha=0.75)\n",
    "plt.xlabel('distance')\n",
    "plt.ylabel('frequency')\n",
    "plt.title('distance to the restaurant')\n",
    "plt.show()"
   ]
  },
  {
   "cell_type": "code",
   "execution_count": 121,
   "metadata": {},
   "outputs": [],
   "source": [
    "distance_weather_rain = df.loc[df['weather'] == 'rain']\n",
    "distance_weather_sunny = df.loc[df['weather'] == 'sunny']\n",
    "distance_weather_mostly_sunny = df.loc[df['weather'] == 'mostly_sunny']\n",
    "distance_weather_overcast = df.loc[df['weather'] == 'overcast']"
   ]
  },
  {
   "cell_type": "code",
   "execution_count": 122,
   "metadata": {},
   "outputs": [
    {
     "name": "stdout",
     "output_type": "stream",
     "text": [
      "rain median: 1.7960506616\n",
      "sunny median: 1.76208313405\n",
      "mostly_sunny median: 1.6918655821000002\n",
      "overcast median: 1.80655828565\n"
     ]
    }
   ],
   "source": [
    "#weather does not seem to have a large effect on user distance to the restaurant \n",
    "for weather in [distance_weather_rain, distance_weather_sunny,distance_weather_mostly_sunny,distance_weather_overcast]:\n",
    "    print(str(weather['weather'].iloc[0]) + \" median: \" + str(weather.median().distance))"
   ]
  },
  {
   "cell_type": "code",
   "execution_count": 123,
   "metadata": {
    "scrolled": false
   },
   "outputs": [
    {
     "data": {
      "image/png": "[encoded data removed]",
      "text/plain": [
       "<matplotlib.figure.Figure at 0x1d87342fe10>"
      ]
     },
     "metadata": {
      "needs_background": "light"
     },
     "output_type": "display_data"
    }
   ],
   "source": [
    "#This can be also seen in the histograms\n",
    "fig, axs = plt.subplots(nrows=2, ncols=2, tight_layout=True,figsize=(10, 10))\n",
    "\n",
    "# We can set the number of bins with the `bins` kwarg\n",
    "axs[0,0].hist(distance_weather_rain.distance, bins=20, facecolor='blue', alpha=0.75)\n",
    "axs[1,0].hist(distance_weather_sunny.distance, bins=20, facecolor='blue', alpha=0.75)\n",
    "axs[0,1].hist(distance_weather_mostly_sunny.distance, bins=20, facecolor='blue', alpha=0.75)\n",
    "axs[1,1].hist(distance_weather_overcast.distance, bins=20, facecolor='blue', alpha=0.75)\n",
    "\n",
    "axs[0,0].set_title('rain')\n",
    "axs[1,0].set_title('sunny')\n",
    "axs[0,1].set_title('mostly_sunny')\n",
    "axs[1,1].set_title('overcast')\n",
    "\n",
    "fig.suptitle('distance to the restaurant', y=1.00, fontsize=17)\n",
    "\n",
    "plt.show()"
   ]
  },
  {
   "cell_type": "markdown",
   "metadata": {},
   "source": [
    "## "
   ]
  },
  {
   "cell_type": "code",
   "execution_count": null,
   "metadata": {},
   "outputs": [],
   "source": []
  }
 ],
 "metadata": {
  "kernelspec": {
   "display_name": "Python 3",
   "language": "python",
   "name": "python3"
  },
  "language_info": {
   "codemirror_mode": {
    "name": "ipython",
    "version": 3
   },
   "file_extension": ".py",
   "mimetype": "text/x-python",
   "name": "python",
   "nbconvert_exporter": "python",
   "pygments_lexer": "ipython3",
   "version": "3.6.6"
  }
 },
 "nbformat": 4,
 "nbformat_minor": 2
}
